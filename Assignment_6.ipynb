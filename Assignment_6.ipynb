{
  "nbformat": 4,
  "nbformat_minor": 0,
  "metadata": {
    "colab": {
      "provenance": []
    },
    "kernelspec": {
      "name": "python3",
      "display_name": "Python 3"
    },
    "language_info": {
      "name": "python"
    }
  },
  "cells": [
    {
      "cell_type": "code",
      "execution_count": 39,
      "metadata": {
        "id": "nMUhm5X_RKvk"
      },
      "outputs": [],
      "source": [
        "import pandas as pd\n",
        "import numpy as np\n",
        "from scipy.stats import skew"
      ]
    },
    {
      "cell_type": "code",
      "source": [
        "path = \"/content/data0-SZL.csv\"\n",
        "df = pd.read_csv(path)"
      ],
      "metadata": {
        "id": "olyleweQVJNH"
      },
      "execution_count": 40,
      "outputs": []
    },
    {
      "cell_type": "code",
      "source": [
        "df.head(10)"
      ],
      "metadata": {
        "colab": {
          "base_uri": "https://localhost:8080/",
          "height": 392
        },
        "id": "f7zIWzOsV0GL",
        "outputId": "7972a864-6a8d-4e06-ca87-dac6a86a1124"
      },
      "execution_count": 41,
      "outputs": [
        {
          "output_type": "execute_result",
          "data": {
            "text/plain": [
              "   953  915  989  957  942  945  964  967  951  958  ...  999.2  1008  999.3  \\\n",
              "0  951  927  984  961  943  948  965  974  952  960  ...   1002  1002   1011   \n",
              "1  949  934  981  961  943  945  966  971  954  962  ...   1006   999   1016   \n",
              "2  948  936  981  960  944  943  964  973  955  961  ...   1009   999   1012   \n",
              "3  950  935  983  960  948  944  960  970  953  960  ...   1009   999   1008   \n",
              "4  950  938  987  961  954  946  963  965  951  958  ...   1007   999   1010   \n",
              "5  951  938  984  964  955  949  963  970  951  961  ...   1001   997   1011   \n",
              "6  948  936  982  968  954  948  963  971  953  961  ...    997   993   1017   \n",
              "7  946  935  982  968  955  947  962  972  955  960  ...    996   994   1018   \n",
              "8  944  936  980  970  957  946  957  971  954  962  ...   1000   995   1015   \n",
              "9  947  937  982  969  961  950  957  970  951  959  ...    997   998   1010   \n",
              "\n",
              "   1024  931  831  962.5  919  1211  952.1  \n",
              "0  1030  935  830    965  914  1204    950  \n",
              "1  1033  937  832    965  913  1175    947  \n",
              "2  1033  937  827    967  913  1134    947  \n",
              "3  1032  934  825    966  916  1084    949  \n",
              "4  1032  931  822    965  917  1039    949  \n",
              "5  1035  934  814    967  914   999    955  \n",
              "6  1043  939  813    965  912   971    954  \n",
              "7  1055  945  813    972  910   946    951  \n",
              "8  1074  945  813    973  916   931    948  \n",
              "9  1095  944  808    973  916   923    951  \n",
              "\n",
              "[10 rows x 160 columns]"
            ],
            "text/html": [
              "\n",
              "  <div id=\"df-d25a01b5-9f66-4ded-b802-42f8b9b2660a\" class=\"colab-df-container\">\n",
              "    <div>\n",
              "<style scoped>\n",
              "    .dataframe tbody tr th:only-of-type {\n",
              "        vertical-align: middle;\n",
              "    }\n",
              "\n",
              "    .dataframe tbody tr th {\n",
              "        vertical-align: top;\n",
              "    }\n",
              "\n",
              "    .dataframe thead th {\n",
              "        text-align: right;\n",
              "    }\n",
              "</style>\n",
              "<table border=\"1\" class=\"dataframe\">\n",
              "  <thead>\n",
              "    <tr style=\"text-align: right;\">\n",
              "      <th></th>\n",
              "      <th>953</th>\n",
              "      <th>915</th>\n",
              "      <th>989</th>\n",
              "      <th>957</th>\n",
              "      <th>942</th>\n",
              "      <th>945</th>\n",
              "      <th>964</th>\n",
              "      <th>967</th>\n",
              "      <th>951</th>\n",
              "      <th>958</th>\n",
              "      <th>...</th>\n",
              "      <th>999.2</th>\n",
              "      <th>1008</th>\n",
              "      <th>999.3</th>\n",
              "      <th>1024</th>\n",
              "      <th>931</th>\n",
              "      <th>831</th>\n",
              "      <th>962.5</th>\n",
              "      <th>919</th>\n",
              "      <th>1211</th>\n",
              "      <th>952.1</th>\n",
              "    </tr>\n",
              "  </thead>\n",
              "  <tbody>\n",
              "    <tr>\n",
              "      <th>0</th>\n",
              "      <td>951</td>\n",
              "      <td>927</td>\n",
              "      <td>984</td>\n",
              "      <td>961</td>\n",
              "      <td>943</td>\n",
              "      <td>948</td>\n",
              "      <td>965</td>\n",
              "      <td>974</td>\n",
              "      <td>952</td>\n",
              "      <td>960</td>\n",
              "      <td>...</td>\n",
              "      <td>1002</td>\n",
              "      <td>1002</td>\n",
              "      <td>1011</td>\n",
              "      <td>1030</td>\n",
              "      <td>935</td>\n",
              "      <td>830</td>\n",
              "      <td>965</td>\n",
              "      <td>914</td>\n",
              "      <td>1204</td>\n",
              "      <td>950</td>\n",
              "    </tr>\n",
              "    <tr>\n",
              "      <th>1</th>\n",
              "      <td>949</td>\n",
              "      <td>934</td>\n",
              "      <td>981</td>\n",
              "      <td>961</td>\n",
              "      <td>943</td>\n",
              "      <td>945</td>\n",
              "      <td>966</td>\n",
              "      <td>971</td>\n",
              "      <td>954</td>\n",
              "      <td>962</td>\n",
              "      <td>...</td>\n",
              "      <td>1006</td>\n",
              "      <td>999</td>\n",
              "      <td>1016</td>\n",
              "      <td>1033</td>\n",
              "      <td>937</td>\n",
              "      <td>832</td>\n",
              "      <td>965</td>\n",
              "      <td>913</td>\n",
              "      <td>1175</td>\n",
              "      <td>947</td>\n",
              "    </tr>\n",
              "    <tr>\n",
              "      <th>2</th>\n",
              "      <td>948</td>\n",
              "      <td>936</td>\n",
              "      <td>981</td>\n",
              "      <td>960</td>\n",
              "      <td>944</td>\n",
              "      <td>943</td>\n",
              "      <td>964</td>\n",
              "      <td>973</td>\n",
              "      <td>955</td>\n",
              "      <td>961</td>\n",
              "      <td>...</td>\n",
              "      <td>1009</td>\n",
              "      <td>999</td>\n",
              "      <td>1012</td>\n",
              "      <td>1033</td>\n",
              "      <td>937</td>\n",
              "      <td>827</td>\n",
              "      <td>967</td>\n",
              "      <td>913</td>\n",
              "      <td>1134</td>\n",
              "      <td>947</td>\n",
              "    </tr>\n",
              "    <tr>\n",
              "      <th>3</th>\n",
              "      <td>950</td>\n",
              "      <td>935</td>\n",
              "      <td>983</td>\n",
              "      <td>960</td>\n",
              "      <td>948</td>\n",
              "      <td>944</td>\n",
              "      <td>960</td>\n",
              "      <td>970</td>\n",
              "      <td>953</td>\n",
              "      <td>960</td>\n",
              "      <td>...</td>\n",
              "      <td>1009</td>\n",
              "      <td>999</td>\n",
              "      <td>1008</td>\n",
              "      <td>1032</td>\n",
              "      <td>934</td>\n",
              "      <td>825</td>\n",
              "      <td>966</td>\n",
              "      <td>916</td>\n",
              "      <td>1084</td>\n",
              "      <td>949</td>\n",
              "    </tr>\n",
              "    <tr>\n",
              "      <th>4</th>\n",
              "      <td>950</td>\n",
              "      <td>938</td>\n",
              "      <td>987</td>\n",
              "      <td>961</td>\n",
              "      <td>954</td>\n",
              "      <td>946</td>\n",
              "      <td>963</td>\n",
              "      <td>965</td>\n",
              "      <td>951</td>\n",
              "      <td>958</td>\n",
              "      <td>...</td>\n",
              "      <td>1007</td>\n",
              "      <td>999</td>\n",
              "      <td>1010</td>\n",
              "      <td>1032</td>\n",
              "      <td>931</td>\n",
              "      <td>822</td>\n",
              "      <td>965</td>\n",
              "      <td>917</td>\n",
              "      <td>1039</td>\n",
              "      <td>949</td>\n",
              "    </tr>\n",
              "    <tr>\n",
              "      <th>5</th>\n",
              "      <td>951</td>\n",
              "      <td>938</td>\n",
              "      <td>984</td>\n",
              "      <td>964</td>\n",
              "      <td>955</td>\n",
              "      <td>949</td>\n",
              "      <td>963</td>\n",
              "      <td>970</td>\n",
              "      <td>951</td>\n",
              "      <td>961</td>\n",
              "      <td>...</td>\n",
              "      <td>1001</td>\n",
              "      <td>997</td>\n",
              "      <td>1011</td>\n",
              "      <td>1035</td>\n",
              "      <td>934</td>\n",
              "      <td>814</td>\n",
              "      <td>967</td>\n",
              "      <td>914</td>\n",
              "      <td>999</td>\n",
              "      <td>955</td>\n",
              "    </tr>\n",
              "    <tr>\n",
              "      <th>6</th>\n",
              "      <td>948</td>\n",
              "      <td>936</td>\n",
              "      <td>982</td>\n",
              "      <td>968</td>\n",
              "      <td>954</td>\n",
              "      <td>948</td>\n",
              "      <td>963</td>\n",
              "      <td>971</td>\n",
              "      <td>953</td>\n",
              "      <td>961</td>\n",
              "      <td>...</td>\n",
              "      <td>997</td>\n",
              "      <td>993</td>\n",
              "      <td>1017</td>\n",
              "      <td>1043</td>\n",
              "      <td>939</td>\n",
              "      <td>813</td>\n",
              "      <td>965</td>\n",
              "      <td>912</td>\n",
              "      <td>971</td>\n",
              "      <td>954</td>\n",
              "    </tr>\n",
              "    <tr>\n",
              "      <th>7</th>\n",
              "      <td>946</td>\n",
              "      <td>935</td>\n",
              "      <td>982</td>\n",
              "      <td>968</td>\n",
              "      <td>955</td>\n",
              "      <td>947</td>\n",
              "      <td>962</td>\n",
              "      <td>972</td>\n",
              "      <td>955</td>\n",
              "      <td>960</td>\n",
              "      <td>...</td>\n",
              "      <td>996</td>\n",
              "      <td>994</td>\n",
              "      <td>1018</td>\n",
              "      <td>1055</td>\n",
              "      <td>945</td>\n",
              "      <td>813</td>\n",
              "      <td>972</td>\n",
              "      <td>910</td>\n",
              "      <td>946</td>\n",
              "      <td>951</td>\n",
              "    </tr>\n",
              "    <tr>\n",
              "      <th>8</th>\n",
              "      <td>944</td>\n",
              "      <td>936</td>\n",
              "      <td>980</td>\n",
              "      <td>970</td>\n",
              "      <td>957</td>\n",
              "      <td>946</td>\n",
              "      <td>957</td>\n",
              "      <td>971</td>\n",
              "      <td>954</td>\n",
              "      <td>962</td>\n",
              "      <td>...</td>\n",
              "      <td>1000</td>\n",
              "      <td>995</td>\n",
              "      <td>1015</td>\n",
              "      <td>1074</td>\n",
              "      <td>945</td>\n",
              "      <td>813</td>\n",
              "      <td>973</td>\n",
              "      <td>916</td>\n",
              "      <td>931</td>\n",
              "      <td>948</td>\n",
              "    </tr>\n",
              "    <tr>\n",
              "      <th>9</th>\n",
              "      <td>947</td>\n",
              "      <td>937</td>\n",
              "      <td>982</td>\n",
              "      <td>969</td>\n",
              "      <td>961</td>\n",
              "      <td>950</td>\n",
              "      <td>957</td>\n",
              "      <td>970</td>\n",
              "      <td>951</td>\n",
              "      <td>959</td>\n",
              "      <td>...</td>\n",
              "      <td>997</td>\n",
              "      <td>998</td>\n",
              "      <td>1010</td>\n",
              "      <td>1095</td>\n",
              "      <td>944</td>\n",
              "      <td>808</td>\n",
              "      <td>973</td>\n",
              "      <td>916</td>\n",
              "      <td>923</td>\n",
              "      <td>951</td>\n",
              "    </tr>\n",
              "  </tbody>\n",
              "</table>\n",
              "<p>10 rows × 160 columns</p>\n",
              "</div>\n",
              "    <div class=\"colab-df-buttons\">\n",
              "\n",
              "  <div class=\"colab-df-container\">\n",
              "    <button class=\"colab-df-convert\" onclick=\"convertToInteractive('df-d25a01b5-9f66-4ded-b802-42f8b9b2660a')\"\n",
              "            title=\"Convert this dataframe to an interactive table.\"\n",
              "            style=\"display:none;\">\n",
              "\n",
              "  <svg xmlns=\"http://www.w3.org/2000/svg\" height=\"24px\" viewBox=\"0 -960 960 960\">\n",
              "    <path d=\"M120-120v-720h720v720H120Zm60-500h600v-160H180v160Zm220 220h160v-160H400v160Zm0 220h160v-160H400v160ZM180-400h160v-160H180v160Zm440 0h160v-160H620v160ZM180-180h160v-160H180v160Zm440 0h160v-160H620v160Z\"/>\n",
              "  </svg>\n",
              "    </button>\n",
              "\n",
              "  <style>\n",
              "    .colab-df-container {\n",
              "      display:flex;\n",
              "      gap: 12px;\n",
              "    }\n",
              "\n",
              "    .colab-df-convert {\n",
              "      background-color: #E8F0FE;\n",
              "      border: none;\n",
              "      border-radius: 50%;\n",
              "      cursor: pointer;\n",
              "      display: none;\n",
              "      fill: #1967D2;\n",
              "      height: 32px;\n",
              "      padding: 0 0 0 0;\n",
              "      width: 32px;\n",
              "    }\n",
              "\n",
              "    .colab-df-convert:hover {\n",
              "      background-color: #E2EBFA;\n",
              "      box-shadow: 0px 1px 2px rgba(60, 64, 67, 0.3), 0px 1px 3px 1px rgba(60, 64, 67, 0.15);\n",
              "      fill: #174EA6;\n",
              "    }\n",
              "\n",
              "    .colab-df-buttons div {\n",
              "      margin-bottom: 4px;\n",
              "    }\n",
              "\n",
              "    [theme=dark] .colab-df-convert {\n",
              "      background-color: #3B4455;\n",
              "      fill: #D2E3FC;\n",
              "    }\n",
              "\n",
              "    [theme=dark] .colab-df-convert:hover {\n",
              "      background-color: #434B5C;\n",
              "      box-shadow: 0px 1px 3px 1px rgba(0, 0, 0, 0.15);\n",
              "      filter: drop-shadow(0px 1px 2px rgba(0, 0, 0, 0.3));\n",
              "      fill: #FFFFFF;\n",
              "    }\n",
              "  </style>\n",
              "\n",
              "    <script>\n",
              "      const buttonEl =\n",
              "        document.querySelector('#df-d25a01b5-9f66-4ded-b802-42f8b9b2660a button.colab-df-convert');\n",
              "      buttonEl.style.display =\n",
              "        google.colab.kernel.accessAllowed ? 'block' : 'none';\n",
              "\n",
              "      async function convertToInteractive(key) {\n",
              "        const element = document.querySelector('#df-d25a01b5-9f66-4ded-b802-42f8b9b2660a');\n",
              "        const dataTable =\n",
              "          await google.colab.kernel.invokeFunction('convertToInteractive',\n",
              "                                                    [key], {});\n",
              "        if (!dataTable) return;\n",
              "\n",
              "        const docLinkHtml = 'Like what you see? Visit the ' +\n",
              "          '<a target=\"_blank\" href=https://colab.research.google.com/notebooks/data_table.ipynb>data table notebook</a>'\n",
              "          + ' to learn more about interactive tables.';\n",
              "        element.innerHTML = '';\n",
              "        dataTable['output_type'] = 'display_data';\n",
              "        await google.colab.output.renderOutput(dataTable, element);\n",
              "        const docLink = document.createElement('div');\n",
              "        docLink.innerHTML = docLinkHtml;\n",
              "        element.appendChild(docLink);\n",
              "      }\n",
              "    </script>\n",
              "  </div>\n",
              "\n",
              "\n",
              "<div id=\"df-f6606e97-2059-4e7f-8026-6de271b91786\">\n",
              "  <button class=\"colab-df-quickchart\" onclick=\"quickchart('df-f6606e97-2059-4e7f-8026-6de271b91786')\"\n",
              "            title=\"Suggest charts\"\n",
              "            style=\"display:none;\">\n",
              "\n",
              "<svg xmlns=\"http://www.w3.org/2000/svg\" height=\"24px\"viewBox=\"0 0 24 24\"\n",
              "     width=\"24px\">\n",
              "    <g>\n",
              "        <path d=\"M19 3H5c-1.1 0-2 .9-2 2v14c0 1.1.9 2 2 2h14c1.1 0 2-.9 2-2V5c0-1.1-.9-2-2-2zM9 17H7v-7h2v7zm4 0h-2V7h2v10zm4 0h-2v-4h2v4z\"/>\n",
              "    </g>\n",
              "</svg>\n",
              "  </button>\n",
              "\n",
              "<style>\n",
              "  .colab-df-quickchart {\n",
              "      --bg-color: #E8F0FE;\n",
              "      --fill-color: #1967D2;\n",
              "      --hover-bg-color: #E2EBFA;\n",
              "      --hover-fill-color: #174EA6;\n",
              "      --disabled-fill-color: #AAA;\n",
              "      --disabled-bg-color: #DDD;\n",
              "  }\n",
              "\n",
              "  [theme=dark] .colab-df-quickchart {\n",
              "      --bg-color: #3B4455;\n",
              "      --fill-color: #D2E3FC;\n",
              "      --hover-bg-color: #434B5C;\n",
              "      --hover-fill-color: #FFFFFF;\n",
              "      --disabled-bg-color: #3B4455;\n",
              "      --disabled-fill-color: #666;\n",
              "  }\n",
              "\n",
              "  .colab-df-quickchart {\n",
              "    background-color: var(--bg-color);\n",
              "    border: none;\n",
              "    border-radius: 50%;\n",
              "    cursor: pointer;\n",
              "    display: none;\n",
              "    fill: var(--fill-color);\n",
              "    height: 32px;\n",
              "    padding: 0;\n",
              "    width: 32px;\n",
              "  }\n",
              "\n",
              "  .colab-df-quickchart:hover {\n",
              "    background-color: var(--hover-bg-color);\n",
              "    box-shadow: 0 1px 2px rgba(60, 64, 67, 0.3), 0 1px 3px 1px rgba(60, 64, 67, 0.15);\n",
              "    fill: var(--button-hover-fill-color);\n",
              "  }\n",
              "\n",
              "  .colab-df-quickchart-complete:disabled,\n",
              "  .colab-df-quickchart-complete:disabled:hover {\n",
              "    background-color: var(--disabled-bg-color);\n",
              "    fill: var(--disabled-fill-color);\n",
              "    box-shadow: none;\n",
              "  }\n",
              "\n",
              "  .colab-df-spinner {\n",
              "    border: 2px solid var(--fill-color);\n",
              "    border-color: transparent;\n",
              "    border-bottom-color: var(--fill-color);\n",
              "    animation:\n",
              "      spin 1s steps(1) infinite;\n",
              "  }\n",
              "\n",
              "  @keyframes spin {\n",
              "    0% {\n",
              "      border-color: transparent;\n",
              "      border-bottom-color: var(--fill-color);\n",
              "      border-left-color: var(--fill-color);\n",
              "    }\n",
              "    20% {\n",
              "      border-color: transparent;\n",
              "      border-left-color: var(--fill-color);\n",
              "      border-top-color: var(--fill-color);\n",
              "    }\n",
              "    30% {\n",
              "      border-color: transparent;\n",
              "      border-left-color: var(--fill-color);\n",
              "      border-top-color: var(--fill-color);\n",
              "      border-right-color: var(--fill-color);\n",
              "    }\n",
              "    40% {\n",
              "      border-color: transparent;\n",
              "      border-right-color: var(--fill-color);\n",
              "      border-top-color: var(--fill-color);\n",
              "    }\n",
              "    60% {\n",
              "      border-color: transparent;\n",
              "      border-right-color: var(--fill-color);\n",
              "    }\n",
              "    80% {\n",
              "      border-color: transparent;\n",
              "      border-right-color: var(--fill-color);\n",
              "      border-bottom-color: var(--fill-color);\n",
              "    }\n",
              "    90% {\n",
              "      border-color: transparent;\n",
              "      border-bottom-color: var(--fill-color);\n",
              "    }\n",
              "  }\n",
              "</style>\n",
              "\n",
              "  <script>\n",
              "    async function quickchart(key) {\n",
              "      const quickchartButtonEl =\n",
              "        document.querySelector('#' + key + ' button');\n",
              "      quickchartButtonEl.disabled = true;  // To prevent multiple clicks.\n",
              "      quickchartButtonEl.classList.add('colab-df-spinner');\n",
              "      try {\n",
              "        const charts = await google.colab.kernel.invokeFunction(\n",
              "            'suggestCharts', [key], {});\n",
              "      } catch (error) {\n",
              "        console.error('Error during call to suggestCharts:', error);\n",
              "      }\n",
              "      quickchartButtonEl.classList.remove('colab-df-spinner');\n",
              "      quickchartButtonEl.classList.add('colab-df-quickchart-complete');\n",
              "    }\n",
              "    (() => {\n",
              "      let quickchartButtonEl =\n",
              "        document.querySelector('#df-f6606e97-2059-4e7f-8026-6de271b91786 button');\n",
              "      quickchartButtonEl.style.display =\n",
              "        google.colab.kernel.accessAllowed ? 'block' : 'none';\n",
              "    })();\n",
              "  </script>\n",
              "</div>\n",
              "    </div>\n",
              "  </div>\n"
            ],
            "application/vnd.google.colaboratory.intrinsic+json": {
              "type": "dataframe",
              "variable_name": "df"
            }
          },
          "metadata": {},
          "execution_count": 41
        }
      ]
    },
    {
      "cell_type": "code",
      "source": [
        "df.mean()"
      ],
      "metadata": {
        "colab": {
          "base_uri": "https://localhost:8080/"
        },
        "id": "UOL47HYMVWHQ",
        "outputId": "feaeece7-2900-4732-cbe5-eb622957716b"
      },
      "execution_count": 42,
      "outputs": [
        {
          "output_type": "execute_result",
          "data": {
            "text/plain": [
              "953      968.532370\n",
              "915      960.045568\n",
              "989      967.593220\n",
              "957      962.974437\n",
              "942      970.038622\n",
              "            ...    \n",
              "831      973.982495\n",
              "962.5    976.744929\n",
              "919      992.431231\n",
              "1211     991.007224\n",
              "952.1    977.994721\n",
              "Length: 160, dtype: float64"
            ]
          },
          "metadata": {},
          "execution_count": 42
        }
      ]
    },
    {
      "cell_type": "code",
      "source": [
        "df.std()"
      ],
      "metadata": {
        "colab": {
          "base_uri": "https://localhost:8080/"
        },
        "id": "taZ_SL7sYou9",
        "outputId": "212c54c5-6934-4bc7-c205-53204c8f4bcb"
      },
      "execution_count": 43,
      "outputs": [
        {
          "output_type": "execute_result",
          "data": {
            "text/plain": [
              "953      38.087937\n",
              "915      35.910211\n",
              "989      39.111912\n",
              "957      39.208241\n",
              "942      38.269399\n",
              "           ...    \n",
              "831      72.590952\n",
              "962.5    65.501847\n",
              "919      45.911529\n",
              "1211     91.239771\n",
              "952.1    94.754220\n",
              "Length: 160, dtype: float64"
            ]
          },
          "metadata": {},
          "execution_count": 43
        }
      ]
    },
    {
      "cell_type": "code",
      "source": [
        "df.apply(skew)"
      ],
      "metadata": {
        "colab": {
          "base_uri": "https://localhost:8080/"
        },
        "id": "qSu1Fej2YyJp",
        "outputId": "8c488c5a-197b-4242-b764-2bfa8d64fbfd"
      },
      "execution_count": 44,
      "outputs": [
        {
          "output_type": "execute_result",
          "data": {
            "text/plain": [
              "953      4.538410\n",
              "915      4.658780\n",
              "989      4.215040\n",
              "957      4.387900\n",
              "942      4.594847\n",
              "           ...   \n",
              "831      1.188947\n",
              "962.5    1.691513\n",
              "919      1.388619\n",
              "1211     2.183781\n",
              "952.1    2.464075\n",
              "Length: 160, dtype: float64"
            ]
          },
          "metadata": {},
          "execution_count": 44
        }
      ]
    },
    {
      "cell_type": "code",
      "source": [
        "df.median()"
      ],
      "metadata": {
        "colab": {
          "base_uri": "https://localhost:8080/"
        },
        "id": "FKT5E0-yY1fv",
        "outputId": "7909f4b4-1f97-4f96-9d9c-c7ce22b97e88"
      },
      "execution_count": 45,
      "outputs": [
        {
          "output_type": "execute_result",
          "data": {
            "text/plain": [
              "953      964.0\n",
              "915      956.0\n",
              "989      962.0\n",
              "957      958.0\n",
              "942      964.0\n",
              "         ...  \n",
              "831      965.0\n",
              "962.5    966.0\n",
              "919      984.0\n",
              "1211     985.0\n",
              "952.1    962.0\n",
              "Length: 160, dtype: float64"
            ]
          },
          "metadata": {},
          "execution_count": 45
        }
      ]
    },
    {
      "cell_type": "code",
      "source": [
        "df.min()"
      ],
      "metadata": {
        "colab": {
          "base_uri": "https://localhost:8080/"
        },
        "id": "0KpTQdWSY5kl",
        "outputId": "0c81bcd6-c741-4d03-c17b-174195caadf4"
      },
      "execution_count": 46,
      "outputs": [
        {
          "output_type": "execute_result",
          "data": {
            "text/plain": [
              "953      906\n",
              "915      901\n",
              "989      901\n",
              "957      904\n",
              "942      908\n",
              "        ... \n",
              "831      708\n",
              "962.5    743\n",
              "919      830\n",
              "1211     760\n",
              "952.1    798\n",
              "Length: 160, dtype: int64"
            ]
          },
          "metadata": {},
          "execution_count": 46
        }
      ]
    },
    {
      "cell_type": "code",
      "source": [
        "df.max()"
      ],
      "metadata": {
        "colab": {
          "base_uri": "https://localhost:8080/"
        },
        "id": "Qo9OrJovY9n_",
        "outputId": "36b8ad2e-a891-4e9f-e063-284e9521bd10"
      },
      "execution_count": 47,
      "outputs": [
        {
          "output_type": "execute_result",
          "data": {
            "text/plain": [
              "953      1260\n",
              "915      1235\n",
              "989      1248\n",
              "957      1243\n",
              "942      1286\n",
              "         ... \n",
              "831      1390\n",
              "962.5    1336\n",
              "919      1219\n",
              "1211     1513\n",
              "952.1    1481\n",
              "Length: 160, dtype: int64"
            ]
          },
          "metadata": {},
          "execution_count": 47
        }
      ]
    },
    {
      "cell_type": "code",
      "source": [
        "import matplotlib.pyplot as plt\n",
        "import seaborn as sns"
      ],
      "metadata": {
        "id": "uwTmckdUaEO2"
      },
      "execution_count": 48,
      "outputs": []
    },
    {
      "cell_type": "code",
      "source": [
        "x_column = '953'\n",
        "y_column = '915'"
      ],
      "metadata": {
        "id": "jIERzjEWc9o0"
      },
      "execution_count": 49,
      "outputs": []
    },
    {
      "cell_type": "code",
      "source": [
        "plt.figure(figsize=(2,3))\n",
        "plt.scatter(df[x_column], df[y_column], alpha=0.5)\n",
        "plt.title('Scatter Plot Data Random'.format(x_column, y_column))\n",
        "plt.xlabel(x_column)\n",
        "plt.ylabel(y_column)\n",
        "plt.grid(True)\n",
        "plt.tight_layout()\n",
        "plt.show()"
      ],
      "metadata": {
        "colab": {
          "base_uri": "https://localhost:8080/",
          "height": 307
        },
        "id": "Jg2dLafQdGR3",
        "outputId": "909e057d-a514-435e-87bb-3d07964d39dc"
      },
      "execution_count": 50,
      "outputs": [
        {
          "output_type": "display_data",
          "data": {
            "text/plain": [
              "<Figure size 200x300 with 1 Axes>"
            ],
            "image/png": "[encoded data removed]"
          },
          "metadata": {}
        }
      ]
    },
    {
      "cell_type": "code",
      "source": [
        "x_column = 'mean'\n",
        "y_column = 'standar deviasi'\n",
        "\n",
        "colors = np.arange(len(df))"
      ],
      "metadata": {
        "id": "hVcHUWucd4he"
      },
      "execution_count": 53,
      "outputs": []
    },
    {
      "cell_type": "code",
      "source": [
        "plt.figure(figsize=(2,3))\n",
        "plt.scatter(df[x_column], df[y_column], c=colors, cmap='viridis', alpha = 0.5)\n",
        "plt.colorbar(label='Baris')\n",
        "plt.title('Scatter Plot Data Random'.format(x_column, y_column))\n",
        "plt.xlabel(x_column)\n",
        "plt.ylabel(y_column)\n",
        "plt.grid(True)\n",
        "plt.tight_layout()\n",
        "plt.show()"
      ],
      "metadata": {
        "colab": {
          "base_uri": "https://localhost:8080/",
          "height": 495
        },
        "id": "4sgimRMDeXwn",
        "outputId": "a20809a4-56b1-4e51-bb9a-4d53fd0627af"
      },
      "execution_count": 54,
      "outputs": [
        {
          "output_type": "error",
          "ename": "KeyError",
          "evalue": "'mean'",
          "traceback": [
            "\u001b[0;31m---------------------------------------------------------------------------\u001b[0m",
            "\u001b[0;31mKeyError\u001b[0m                                  Traceback (most recent call last)",
            "\u001b[0;32m/usr/local/lib/python3.10/dist-packages/pandas/core/indexes/base.py\u001b[0m in \u001b[0;36mget_loc\u001b[0;34m(self, key, method, tolerance)\u001b[0m\n\u001b[1;32m   3801\u001b[0m             \u001b[0;32mtry\u001b[0m\u001b[0;34m:\u001b[0m\u001b[0;34m\u001b[0m\u001b[0;34m\u001b[0m\u001b[0m\n\u001b[0;32m-> 3802\u001b[0;31m                 \u001b[0;32mreturn\u001b[0m \u001b[0mself\u001b[0m\u001b[0;34m.\u001b[0m\u001b[0m_engine\u001b[0m\u001b[0;34m.\u001b[0m\u001b[0mget_loc\u001b[0m\u001b[0;34m(\u001b[0m\u001b[0mcasted_key\u001b[0m\u001b[0;34m)\u001b[0m\u001b[0;34m\u001b[0m\u001b[0;34m\u001b[0m\u001b[0m\n\u001b[0m\u001b[1;32m   3803\u001b[0m             \u001b[0;32mexcept\u001b[0m \u001b[0mKeyError\u001b[0m \u001b[0;32mas\u001b[0m \u001b[0merr\u001b[0m\u001b[0;34m:\u001b[0m\u001b[0;34m\u001b[0m\u001b[0;34m\u001b[0m\u001b[0m\n",
            "\u001b[0;32m/usr/local/lib/python3.10/dist-packages/pandas/_libs/index.pyx\u001b[0m in \u001b[0;36mpandas._libs.index.IndexEngine.get_loc\u001b[0;34m()\u001b[0m\n",
            "\u001b[0;32m/usr/local/lib/python3.10/dist-packages/pandas/_libs/index.pyx\u001b[0m in \u001b[0;36mpandas._libs.index.IndexEngine.get_loc\u001b[0;34m()\u001b[0m\n",
            "\u001b[0;32mpandas/_libs/hashtable_class_helper.pxi\u001b[0m in \u001b[0;36mpandas._libs.hashtable.PyObjectHashTable.get_item\u001b[0;34m()\u001b[0m\n",
            "\u001b[0;32mpandas/_libs/hashtable_class_helper.pxi\u001b[0m in \u001b[0;36mpandas._libs.hashtable.PyObjectHashTable.get_item\u001b[0;34m()\u001b[0m\n",
            "\u001b[0;31mKeyError\u001b[0m: 'mean'",
            "\nThe above exception was the direct cause of the following exception:\n",
            "\u001b[0;31mKeyError\u001b[0m                                  Traceback (most recent call last)",
            "\u001b[0;32m<ipython-input-54-c832386eec02>\u001b[0m in \u001b[0;36m<cell line: 2>\u001b[0;34m()\u001b[0m\n\u001b[1;32m      1\u001b[0m \u001b[0mplt\u001b[0m\u001b[0;34m.\u001b[0m\u001b[0mfigure\u001b[0m\u001b[0;34m(\u001b[0m\u001b[0mfigsize\u001b[0m\u001b[0;34m=\u001b[0m\u001b[0;34m(\u001b[0m\u001b[0;36m2\u001b[0m\u001b[0;34m,\u001b[0m\u001b[0;36m3\u001b[0m\u001b[0;34m)\u001b[0m\u001b[0;34m)\u001b[0m\u001b[0;34m\u001b[0m\u001b[0;34m\u001b[0m\u001b[0m\n\u001b[0;32m----> 2\u001b[0;31m \u001b[0mplt\u001b[0m\u001b[0;34m.\u001b[0m\u001b[0mscatter\u001b[0m\u001b[0;34m(\u001b[0m\u001b[0mdf\u001b[0m\u001b[0;34m[\u001b[0m\u001b[0mx_column\u001b[0m\u001b[0;34m]\u001b[0m\u001b[0;34m,\u001b[0m \u001b[0mdf\u001b[0m\u001b[0;34m[\u001b[0m\u001b[0my_column\u001b[0m\u001b[0;34m]\u001b[0m\u001b[0;34m,\u001b[0m \u001b[0mc\u001b[0m\u001b[0;34m=\u001b[0m\u001b[0mcolors\u001b[0m\u001b[0;34m,\u001b[0m \u001b[0mcmap\u001b[0m\u001b[0;34m=\u001b[0m\u001b[0;34m'viridis'\u001b[0m\u001b[0;34m,\u001b[0m \u001b[0malpha\u001b[0m \u001b[0;34m=\u001b[0m \u001b[0;36m0.5\u001b[0m\u001b[0;34m)\u001b[0m\u001b[0;34m\u001b[0m\u001b[0;34m\u001b[0m\u001b[0m\n\u001b[0m\u001b[1;32m      3\u001b[0m \u001b[0mplt\u001b[0m\u001b[0;34m.\u001b[0m\u001b[0mcolorbar\u001b[0m\u001b[0;34m(\u001b[0m\u001b[0mlabel\u001b[0m\u001b[0;34m=\u001b[0m\u001b[0;34m'Baris'\u001b[0m\u001b[0;34m)\u001b[0m\u001b[0;34m\u001b[0m\u001b[0;34m\u001b[0m\u001b[0m\n\u001b[1;32m      4\u001b[0m \u001b[0mplt\u001b[0m\u001b[0;34m.\u001b[0m\u001b[0mtitle\u001b[0m\u001b[0;34m(\u001b[0m\u001b[0;34m'Scatter Plot Data Random'\u001b[0m\u001b[0;34m.\u001b[0m\u001b[0mformat\u001b[0m\u001b[0;34m(\u001b[0m\u001b[0mx_column\u001b[0m\u001b[0;34m,\u001b[0m \u001b[0my_column\u001b[0m\u001b[0;34m)\u001b[0m\u001b[0;34m)\u001b[0m\u001b[0;34m\u001b[0m\u001b[0;34m\u001b[0m\u001b[0m\n\u001b[1;32m      5\u001b[0m \u001b[0mplt\u001b[0m\u001b[0;34m.\u001b[0m\u001b[0mxlabel\u001b[0m\u001b[0;34m(\u001b[0m\u001b[0mx_column\u001b[0m\u001b[0;34m)\u001b[0m\u001b[0;34m\u001b[0m\u001b[0;34m\u001b[0m\u001b[0m\n",
            "\u001b[0;32m/usr/local/lib/python3.10/dist-packages/pandas/core/frame.py\u001b[0m in \u001b[0;36m__getitem__\u001b[0;34m(self, key)\u001b[0m\n\u001b[1;32m   3805\u001b[0m             \u001b[0;32mif\u001b[0m \u001b[0mself\u001b[0m\u001b[0;34m.\u001b[0m\u001b[0mcolumns\u001b[0m\u001b[0;34m.\u001b[0m\u001b[0mnlevels\u001b[0m \u001b[0;34m>\u001b[0m \u001b[0;36m1\u001b[0m\u001b[0;34m:\u001b[0m\u001b[0;34m\u001b[0m\u001b[0;34m\u001b[0m\u001b[0m\n\u001b[1;32m   3806\u001b[0m                 \u001b[0;32mreturn\u001b[0m \u001b[0mself\u001b[0m\u001b[0;34m.\u001b[0m\u001b[0m_getitem_multilevel\u001b[0m\u001b[0;34m(\u001b[0m\u001b[0mkey\u001b[0m\u001b[0;34m)\u001b[0m\u001b[0;34m\u001b[0m\u001b[0;34m\u001b[0m\u001b[0m\n\u001b[0;32m-> 3807\u001b[0;31m             \u001b[0mindexer\u001b[0m \u001b[0;34m=\u001b[0m \u001b[0mself\u001b[0m\u001b[0;34m.\u001b[0m\u001b[0mcolumns\u001b[0m\u001b[0;34m.\u001b[0m\u001b[0mget_loc\u001b[0m\u001b[0;34m(\u001b[0m\u001b[0mkey\u001b[0m\u001b[0;34m)\u001b[0m\u001b[0;34m\u001b[0m\u001b[0;34m\u001b[0m\u001b[0m\n\u001b[0m\u001b[1;32m   3808\u001b[0m             \u001b[0;32mif\u001b[0m \u001b[0mis_integer\u001b[0m\u001b[0;34m(\u001b[0m\u001b[0mindexer\u001b[0m\u001b[0;34m)\u001b[0m\u001b[0;34m:\u001b[0m\u001b[0;34m\u001b[0m\u001b[0;34m\u001b[0m\u001b[0m\n\u001b[1;32m   3809\u001b[0m                 \u001b[0mindexer\u001b[0m \u001b[0;34m=\u001b[0m \u001b[0;34m[\u001b[0m\u001b[0mindexer\u001b[0m\u001b[0;34m]\u001b[0m\u001b[0;34m\u001b[0m\u001b[0;34m\u001b[0m\u001b[0m\n",
            "\u001b[0;32m/usr/local/lib/python3.10/dist-packages/pandas/core/indexes/base.py\u001b[0m in \u001b[0;36mget_loc\u001b[0;34m(self, key, method, tolerance)\u001b[0m\n\u001b[1;32m   3802\u001b[0m                 \u001b[0;32mreturn\u001b[0m \u001b[0mself\u001b[0m\u001b[0;34m.\u001b[0m\u001b[0m_engine\u001b[0m\u001b[0;34m.\u001b[0m\u001b[0mget_loc\u001b[0m\u001b[0;34m(\u001b[0m\u001b[0mcasted_key\u001b[0m\u001b[0;34m)\u001b[0m\u001b[0;34m\u001b[0m\u001b[0;34m\u001b[0m\u001b[0m\n\u001b[1;32m   3803\u001b[0m             \u001b[0;32mexcept\u001b[0m \u001b[0mKeyError\u001b[0m \u001b[0;32mas\u001b[0m \u001b[0merr\u001b[0m\u001b[0;34m:\u001b[0m\u001b[0;34m\u001b[0m\u001b[0;34m\u001b[0m\u001b[0m\n\u001b[0;32m-> 3804\u001b[0;31m                 \u001b[0;32mraise\u001b[0m \u001b[0mKeyError\u001b[0m\u001b[0;34m(\u001b[0m\u001b[0mkey\u001b[0m\u001b[0;34m)\u001b[0m \u001b[0;32mfrom\u001b[0m \u001b[0merr\u001b[0m\u001b[0;34m\u001b[0m\u001b[0;34m\u001b[0m\u001b[0m\n\u001b[0m\u001b[1;32m   3805\u001b[0m             \u001b[0;32mexcept\u001b[0m \u001b[0mTypeError\u001b[0m\u001b[0;34m:\u001b[0m\u001b[0;34m\u001b[0m\u001b[0;34m\u001b[0m\u001b[0m\n\u001b[1;32m   3806\u001b[0m                 \u001b[0;31m# If we have a listlike key, _check_indexing_error will raise\u001b[0m\u001b[0;34m\u001b[0m\u001b[0;34m\u001b[0m\u001b[0m\n",
            "\u001b[0;31mKeyError\u001b[0m: 'mean'"
          ]
        },
        {
          "output_type": "display_data",
          "data": {
            "text/plain": [
              "<Figure size 200x300 with 0 Axes>"
            ]
          },
          "metadata": {}
        }
      ]
    }
  ]
}