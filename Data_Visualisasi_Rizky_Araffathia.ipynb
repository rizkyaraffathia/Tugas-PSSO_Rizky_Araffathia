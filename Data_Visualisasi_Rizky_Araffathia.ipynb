{
  "nbformat": 4,
  "nbformat_minor": 0,
  "metadata": {
    "colab": {
      "provenance": []
    },
    "kernelspec": {
      "name": "python3",
      "display_name": "Python 3"
    },
    "language_info": {
      "name": "python"
    }
  },
  "cells": [
    {
      "cell_type": "code",
      "execution_count": 33,
      "metadata": {
        "id": "r7eQvTw1FcL7"
      },
      "outputs": [],
      "source": [
        "import pandas as pd\n",
        "import numpy as np"
      ]
    },
    {
      "cell_type": "code",
      "source": [
        "path = \"/content/epl-goalScorer(20-21).csv\"\n",
        "df = pd.read_csv(path)"
      ],
      "metadata": {
        "id": "LGZYtPT2Hvsm"
      },
      "execution_count": 34,
      "outputs": []
    },
    {
      "cell_type": "code",
      "source": [
        "df.head(10)"
      ],
      "metadata": {
        "colab": {
          "base_uri": "https://localhost:8080/",
          "height": 522
        },
        "id": "dX4NOow1H-WE",
        "outputId": "e5bad70f-8968-408d-d13c-d04688463db6"
      },
      "execution_count": 35,
      "outputs": [
        {
          "output_type": "execute_result",
          "data": {
            "text/plain": [
              "   Unnamed: 0    id            player_name  games  time  goals         xG  \\\n",
              "0           0   647             Harry Kane     35  3097     23  22.174859   \n",
              "1           1  1250          Mohamed Salah     37  3085     22  20.250847   \n",
              "2           2  1228        Bruno Fernandes     37  3117     18  16.019454   \n",
              "3           3   453          Son Heung-Min     37  3139     17  11.023287   \n",
              "4           4   822        Patrick Bamford     38  3085     17  18.401863   \n",
              "5           5  5555  Dominic Calvert-Lewin     32  2788     16  18.136449   \n",
              "6           6   755            Jamie Vardy     34  2848     15  19.942946   \n",
              "7           7  8865          Ollie Watkins     37  3330     14  16.280178   \n",
              "8           8   314         Ilkay Gündogan     28  2033     13   9.566883   \n",
              "9           9  3277    Alexandre Lacazette     30  1928     13  12.028909   \n",
              "\n",
              "   assists         xA  shots  key_passes  yellow_cards  red_cards position  \\\n",
              "0       14   7.577094    138          49             1          0        F   \n",
              "1        5   6.528526    126          55             0          0    F M S   \n",
              "2       12  11.474996    121          95             6          0      M S   \n",
              "3       10   9.512992     68          75             0          0    F M S   \n",
              "4        7   3.782247    107          30             3          0      F S   \n",
              "5        0   2.101819     82          18             3          0      F S   \n",
              "6        9   5.087882     82          28             1          0      F S   \n",
              "7        5   5.314029     98          45             2          1        F   \n",
              "8        2   3.816220     54          42             1          0      M S   \n",
              "9        2   2.209213     45          22             3          0    F M S   \n",
              "\n",
              "          team_title  npg       npxG    xGChain  xGBuildup  \n",
              "0          Tottenham   19  19.130183  24.995648   4.451257  \n",
              "1          Liverpool   16  15.683834  28.968234   9.800236  \n",
              "2  Manchester United    9   8.407840  26.911412  11.932285  \n",
              "3          Tottenham   16  10.262118  20.671916   6.608751  \n",
              "4              Leeds   15  16.879525  23.394953   4.131796  \n",
              "5            Everton   16  18.136449  19.698850   4.159406  \n",
              "6          Leicester    7  13.092427  18.227907   2.412588  \n",
              "7        Aston Villa   13  14.757840  22.014021   5.334991  \n",
              "8    Manchester City   12   8.044545  19.286812  10.148375  \n",
              "9            Arsenal   10   9.745403  14.361542   2.937941  "
            ],
            "text/html": [
              "\n",
              "  <div id=\"df-6de9a014-9f50-47cb-9e05-514948e66e1e\" class=\"colab-df-container\">\n",
              "    <div>\n",
              "<style scoped>\n",
              "    .dataframe tbody tr th:only-of-type {\n",
              "        vertical-align: middle;\n",
              "    }\n",
              "\n",
              "    .dataframe tbody tr th {\n",
              "        vertical-align: top;\n",
              "    }\n",
              "\n",
              "    .dataframe thead th {\n",
              "        text-align: right;\n",
              "    }\n",
              "</style>\n",
              "<table border=\"1\" class=\"dataframe\">\n",
              "  <thead>\n",
              "    <tr style=\"text-align: right;\">\n",
              "      <th></th>\n",
              "      <th>Unnamed: 0</th>\n",
              "      <th>id</th>\n",
              "      <th>player_name</th>\n",
              "      <th>games</th>\n",
              "      <th>time</th>\n",
              "      <th>goals</th>\n",
              "      <th>xG</th>\n",
              "      <th>assists</th>\n",
              "      <th>xA</th>\n",
              "      <th>shots</th>\n",
              "      <th>key_passes</th>\n",
              "      <th>yellow_cards</th>\n",
              "      <th>red_cards</th>\n",
              "      <th>position</th>\n",
              "      <th>team_title</th>\n",
              "      <th>npg</th>\n",
              "      <th>npxG</th>\n",
              "      <th>xGChain</th>\n",
              "      <th>xGBuildup</th>\n",
              "    </tr>\n",
              "  </thead>\n",
              "  <tbody>\n",
              "    <tr>\n",
              "      <th>0</th>\n",
              "      <td>0</td>\n",
              "      <td>647</td>\n",
              "      <td>Harry Kane</td>\n",
              "      <td>35</td>\n",
              "      <td>3097</td>\n",
              "      <td>23</td>\n",
              "      <td>22.174859</td>\n",
              "      <td>14</td>\n",
              "      <td>7.577094</td>\n",
              "      <td>138</td>\n",
              "      <td>49</td>\n",
              "      <td>1</td>\n",
              "      <td>0</td>\n",
              "      <td>F</td>\n",
              "      <td>Tottenham</td>\n",
              "      <td>19</td>\n",
              "      <td>19.130183</td>\n",
              "      <td>24.995648</td>\n",
              "      <td>4.451257</td>\n",
              "    </tr>\n",
              "    <tr>\n",
              "      <th>1</th>\n",
              "      <td>1</td>\n",
              "      <td>1250</td>\n",
              "      <td>Mohamed Salah</td>\n",
              "      <td>37</td>\n",
              "      <td>3085</td>\n",
              "      <td>22</td>\n",
              "      <td>20.250847</td>\n",
              "      <td>5</td>\n",
              "      <td>6.528526</td>\n",
              "      <td>126</td>\n",
              "      <td>55</td>\n",
              "      <td>0</td>\n",
              "      <td>0</td>\n",
              "      <td>F M S</td>\n",
              "      <td>Liverpool</td>\n",
              "      <td>16</td>\n",
              "      <td>15.683834</td>\n",
              "      <td>28.968234</td>\n",
              "      <td>9.800236</td>\n",
              "    </tr>\n",
              "    <tr>\n",
              "      <th>2</th>\n",
              "      <td>2</td>\n",
              "      <td>1228</td>\n",
              "      <td>Bruno Fernandes</td>\n",
              "      <td>37</td>\n",
              "      <td>3117</td>\n",
              "      <td>18</td>\n",
              "      <td>16.019454</td>\n",
              "      <td>12</td>\n",
              "      <td>11.474996</td>\n",
              "      <td>121</td>\n",
              "      <td>95</td>\n",
              "      <td>6</td>\n",
              "      <td>0</td>\n",
              "      <td>M S</td>\n",
              "      <td>Manchester United</td>\n",
              "      <td>9</td>\n",
              "      <td>8.407840</td>\n",
              "      <td>26.911412</td>\n",
              "      <td>11.932285</td>\n",
              "    </tr>\n",
              "    <tr>\n",
              "      <th>3</th>\n",
              "      <td>3</td>\n",
              "      <td>453</td>\n",
              "      <td>Son Heung-Min</td>\n",
              "      <td>37</td>\n",
              "      <td>3139</td>\n",
              "      <td>17</td>\n",
              "      <td>11.023287</td>\n",
              "      <td>10</td>\n",
              "      <td>9.512992</td>\n",
              "      <td>68</td>\n",
              "      <td>75</td>\n",
              "      <td>0</td>\n",
              "      <td>0</td>\n",
              "      <td>F M S</td>\n",
              "      <td>Tottenham</td>\n",
              "      <td>16</td>\n",
              "      <td>10.262118</td>\n",
              "      <td>20.671916</td>\n",
              "      <td>6.608751</td>\n",
              "    </tr>\n",
              "    <tr>\n",
              "      <th>4</th>\n",
              "      <td>4</td>\n",
              "      <td>822</td>\n",
              "      <td>Patrick Bamford</td>\n",
              "      <td>38</td>\n",
              "      <td>3085</td>\n",
              "      <td>17</td>\n",
              "      <td>18.401863</td>\n",
              "      <td>7</td>\n",
              "      <td>3.782247</td>\n",
              "      <td>107</td>\n",
              "      <td>30</td>\n",
              "      <td>3</td>\n",
              "      <td>0</td>\n",
              "      <td>F S</td>\n",
              "      <td>Leeds</td>\n",
              "      <td>15</td>\n",
              "      <td>16.879525</td>\n",
              "      <td>23.394953</td>\n",
              "      <td>4.131796</td>\n",
              "    </tr>\n",
              "    <tr>\n",
              "      <th>5</th>\n",
              "      <td>5</td>\n",
              "      <td>5555</td>\n",
              "      <td>Dominic Calvert-Lewin</td>\n",
              "      <td>32</td>\n",
              "      <td>2788</td>\n",
              "      <td>16</td>\n",
              "      <td>18.136449</td>\n",
              "      <td>0</td>\n",
              "      <td>2.101819</td>\n",
              "      <td>82</td>\n",
              "      <td>18</td>\n",
              "      <td>3</td>\n",
              "      <td>0</td>\n",
              "      <td>F S</td>\n",
              "      <td>Everton</td>\n",
              "      <td>16</td>\n",
              "      <td>18.136449</td>\n",
              "      <td>19.698850</td>\n",
              "      <td>4.159406</td>\n",
              "    </tr>\n",
              "    <tr>\n",
              "      <th>6</th>\n",
              "      <td>6</td>\n",
              "      <td>755</td>\n",
              "      <td>Jamie Vardy</td>\n",
              "      <td>34</td>\n",
              "      <td>2848</td>\n",
              "      <td>15</td>\n",
              "      <td>19.942946</td>\n",
              "      <td>9</td>\n",
              "      <td>5.087882</td>\n",
              "      <td>82</td>\n",
              "      <td>28</td>\n",
              "      <td>1</td>\n",
              "      <td>0</td>\n",
              "      <td>F S</td>\n",
              "      <td>Leicester</td>\n",
              "      <td>7</td>\n",
              "      <td>13.092427</td>\n",
              "      <td>18.227907</td>\n",
              "      <td>2.412588</td>\n",
              "    </tr>\n",
              "    <tr>\n",
              "      <th>7</th>\n",
              "      <td>7</td>\n",
              "      <td>8865</td>\n",
              "      <td>Ollie Watkins</td>\n",
              "      <td>37</td>\n",
              "      <td>3330</td>\n",
              "      <td>14</td>\n",
              "      <td>16.280178</td>\n",
              "      <td>5</td>\n",
              "      <td>5.314029</td>\n",
              "      <td>98</td>\n",
              "      <td>45</td>\n",
              "      <td>2</td>\n",
              "      <td>1</td>\n",
              "      <td>F</td>\n",
              "      <td>Aston Villa</td>\n",
              "      <td>13</td>\n",
              "      <td>14.757840</td>\n",
              "      <td>22.014021</td>\n",
              "      <td>5.334991</td>\n",
              "    </tr>\n",
              "    <tr>\n",
              "      <th>8</th>\n",
              "      <td>8</td>\n",
              "      <td>314</td>\n",
              "      <td>Ilkay Gündogan</td>\n",
              "      <td>28</td>\n",
              "      <td>2033</td>\n",
              "      <td>13</td>\n",
              "      <td>9.566883</td>\n",
              "      <td>2</td>\n",
              "      <td>3.816220</td>\n",
              "      <td>54</td>\n",
              "      <td>42</td>\n",
              "      <td>1</td>\n",
              "      <td>0</td>\n",
              "      <td>M S</td>\n",
              "      <td>Manchester City</td>\n",
              "      <td>12</td>\n",
              "      <td>8.044545</td>\n",
              "      <td>19.286812</td>\n",
              "      <td>10.148375</td>\n",
              "    </tr>\n",
              "    <tr>\n",
              "      <th>9</th>\n",
              "      <td>9</td>\n",
              "      <td>3277</td>\n",
              "      <td>Alexandre Lacazette</td>\n",
              "      <td>30</td>\n",
              "      <td>1928</td>\n",
              "      <td>13</td>\n",
              "      <td>12.028909</td>\n",
              "      <td>2</td>\n",
              "      <td>2.209213</td>\n",
              "      <td>45</td>\n",
              "      <td>22</td>\n",
              "      <td>3</td>\n",
              "      <td>0</td>\n",
              "      <td>F M S</td>\n",
              "      <td>Arsenal</td>\n",
              "      <td>10</td>\n",
              "      <td>9.745403</td>\n",
              "      <td>14.361542</td>\n",
              "      <td>2.937941</td>\n",
              "    </tr>\n",
              "  </tbody>\n",
              "</table>\n",
              "</div>\n",
              "    <div class=\"colab-df-buttons\">\n",
              "\n",
              "  <div class=\"colab-df-container\">\n",
              "    <button class=\"colab-df-convert\" onclick=\"convertToInteractive('df-6de9a014-9f50-47cb-9e05-514948e66e1e')\"\n",
              "            title=\"Convert this dataframe to an interactive table.\"\n",
              "            style=\"display:none;\">\n",
              "\n",
              "  <svg xmlns=\"http://www.w3.org/2000/svg\" height=\"24px\" viewBox=\"0 -960 960 960\">\n",
              "    <path d=\"M120-120v-720h720v720H120Zm60-500h600v-160H180v160Zm220 220h160v-160H400v160Zm0 220h160v-160H400v160ZM180-400h160v-160H180v160Zm440 0h160v-160H620v160ZM180-180h160v-160H180v160Zm440 0h160v-160H620v160Z\"/>\n",
              "  </svg>\n",
              "    </button>\n",
              "\n",
              "  <style>\n",
              "    .colab-df-container {\n",
              "      display:flex;\n",
              "      gap: 12px;\n",
              "    }\n",
              "\n",
              "    .colab-df-convert {\n",
              "      background-color: #E8F0FE;\n",
              "      border: none;\n",
              "      border-radius: 50%;\n",
              "      cursor: pointer;\n",
              "      display: none;\n",
              "      fill: #1967D2;\n",
              "      height: 32px;\n",
              "      padding: 0 0 0 0;\n",
              "      width: 32px;\n",
              "    }\n",
              "\n",
              "    .colab-df-convert:hover {\n",
              "      background-color: #E2EBFA;\n",
              "      box-shadow: 0px 1px 2px rgba(60, 64, 67, 0.3), 0px 1px 3px 1px rgba(60, 64, 67, 0.15);\n",
              "      fill: #174EA6;\n",
              "    }\n",
              "\n",
              "    .colab-df-buttons div {\n",
              "      margin-bottom: 4px;\n",
              "    }\n",
              "\n",
              "    [theme=dark] .colab-df-convert {\n",
              "      background-color: #3B4455;\n",
              "      fill: #D2E3FC;\n",
              "    }\n",
              "\n",
              "    [theme=dark] .colab-df-convert:hover {\n",
              "      background-color: #434B5C;\n",
              "      box-shadow: 0px 1px 3px 1px rgba(0, 0, 0, 0.15);\n",
              "      filter: drop-shadow(0px 1px 2px rgba(0, 0, 0, 0.3));\n",
              "      fill: #FFFFFF;\n",
              "    }\n",
              "  </style>\n",
              "\n",
              "    <script>\n",
              "      const buttonEl =\n",
              "        document.querySelector('#df-6de9a014-9f50-47cb-9e05-514948e66e1e button.colab-df-convert');\n",
              "      buttonEl.style.display =\n",
              "        google.colab.kernel.accessAllowed ? 'block' : 'none';\n",
              "\n",
              "      async function convertToInteractive(key) {\n",
              "        const element = document.querySelector('#df-6de9a014-9f50-47cb-9e05-514948e66e1e');\n",
              "        const dataTable =\n",
              "          await google.colab.kernel.invokeFunction('convertToInteractive',\n",
              "                                                    [key], {});\n",
              "        if (!dataTable) return;\n",
              "\n",
              "        const docLinkHtml = 'Like what you see? Visit the ' +\n",
              "          '<a target=\"_blank\" href=https://colab.research.google.com/notebooks/data_table.ipynb>data table notebook</a>'\n",
              "          + ' to learn more about interactive tables.';\n",
              "        element.innerHTML = '';\n",
              "        dataTable['output_type'] = 'display_data';\n",
              "        await google.colab.output.renderOutput(dataTable, element);\n",
              "        const docLink = document.createElement('div');\n",
              "        docLink.innerHTML = docLinkHtml;\n",
              "        element.appendChild(docLink);\n",
              "      }\n",
              "    </script>\n",
              "  </div>\n",
              "\n",
              "\n",
              "<div id=\"df-7f0f2ae5-bad1-410b-bc08-9bd16ac4f903\">\n",
              "  <button class=\"colab-df-quickchart\" onclick=\"quickchart('df-7f0f2ae5-bad1-410b-bc08-9bd16ac4f903')\"\n",
              "            title=\"Suggest charts\"\n",
              "            style=\"display:none;\">\n",
              "\n",
              "<svg xmlns=\"http://www.w3.org/2000/svg\" height=\"24px\"viewBox=\"0 0 24 24\"\n",
              "     width=\"24px\">\n",
              "    <g>\n",
              "        <path d=\"M19 3H5c-1.1 0-2 .9-2 2v14c0 1.1.9 2 2 2h14c1.1 0 2-.9 2-2V5c0-1.1-.9-2-2-2zM9 17H7v-7h2v7zm4 0h-2V7h2v10zm4 0h-2v-4h2v4z\"/>\n",
              "    </g>\n",
              "</svg>\n",
              "  </button>\n",
              "\n",
              "<style>\n",
              "  .colab-df-quickchart {\n",
              "      --bg-color: #E8F0FE;\n",
              "      --fill-color: #1967D2;\n",
              "      --hover-bg-color: #E2EBFA;\n",
              "      --hover-fill-color: #174EA6;\n",
              "      --disabled-fill-color: #AAA;\n",
              "      --disabled-bg-color: #DDD;\n",
              "  }\n",
              "\n",
              "  [theme=dark] .colab-df-quickchart {\n",
              "      --bg-color: #3B4455;\n",
              "      --fill-color: #D2E3FC;\n",
              "      --hover-bg-color: #434B5C;\n",
              "      --hover-fill-color: #FFFFFF;\n",
              "      --disabled-bg-color: #3B4455;\n",
              "      --disabled-fill-color: #666;\n",
              "  }\n",
              "\n",
              "  .colab-df-quickchart {\n",
              "    background-color: var(--bg-color);\n",
              "    border: none;\n",
              "    border-radius: 50%;\n",
              "    cursor: pointer;\n",
              "    display: none;\n",
              "    fill: var(--fill-color);\n",
              "    height: 32px;\n",
              "    padding: 0;\n",
              "    width: 32px;\n",
              "  }\n",
              "\n",
              "  .colab-df-quickchart:hover {\n",
              "    background-color: var(--hover-bg-color);\n",
              "    box-shadow: 0 1px 2px rgba(60, 64, 67, 0.3), 0 1px 3px 1px rgba(60, 64, 67, 0.15);\n",
              "    fill: var(--button-hover-fill-color);\n",
              "  }\n",
              "\n",
              "  .colab-df-quickchart-complete:disabled,\n",
              "  .colab-df-quickchart-complete:disabled:hover {\n",
              "    background-color: var(--disabled-bg-color);\n",
              "    fill: var(--disabled-fill-color);\n",
              "    box-shadow: none;\n",
              "  }\n",
              "\n",
              "  .colab-df-spinner {\n",
              "    border: 2px solid var(--fill-color);\n",
              "    border-color: transparent;\n",
              "    border-bottom-color: var(--fill-color);\n",
              "    animation:\n",
              "      spin 1s steps(1) infinite;\n",
              "  }\n",
              "\n",
              "  @keyframes spin {\n",
              "    0% {\n",
              "      border-color: transparent;\n",
              "      border-bottom-color: var(--fill-color);\n",
              "      border-left-color: var(--fill-color);\n",
              "    }\n",
              "    20% {\n",
              "      border-color: transparent;\n",
              "      border-left-color: var(--fill-color);\n",
              "      border-top-color: var(--fill-color);\n",
              "    }\n",
              "    30% {\n",
              "      border-color: transparent;\n",
              "      border-left-color: var(--fill-color);\n",
              "      border-top-color: var(--fill-color);\n",
              "      border-right-color: var(--fill-color);\n",
              "    }\n",
              "    40% {\n",
              "      border-color: transparent;\n",
              "      border-right-color: var(--fill-color);\n",
              "      border-top-color: var(--fill-color);\n",
              "    }\n",
              "    60% {\n",
              "      border-color: transparent;\n",
              "      border-right-color: var(--fill-color);\n",
              "    }\n",
              "    80% {\n",
              "      border-color: transparent;\n",
              "      border-right-color: var(--fill-color);\n",
              "      border-bottom-color: var(--fill-color);\n",
              "    }\n",
              "    90% {\n",
              "      border-color: transparent;\n",
              "      border-bottom-color: var(--fill-color);\n",
              "    }\n",
              "  }\n",
              "</style>\n",
              "\n",
              "  <script>\n",
              "    async function quickchart(key) {\n",
              "      const quickchartButtonEl =\n",
              "        document.querySelector('#' + key + ' button');\n",
              "      quickchartButtonEl.disabled = true;  // To prevent multiple clicks.\n",
              "      quickchartButtonEl.classList.add('colab-df-spinner');\n",
              "      try {\n",
              "        const charts = await google.colab.kernel.invokeFunction(\n",
              "            'suggestCharts', [key], {});\n",
              "      } catch (error) {\n",
              "        console.error('Error during call to suggestCharts:', error);\n",
              "      }\n",
              "      quickchartButtonEl.classList.remove('colab-df-spinner');\n",
              "      quickchartButtonEl.classList.add('colab-df-quickchart-complete');\n",
              "    }\n",
              "    (() => {\n",
              "      let quickchartButtonEl =\n",
              "        document.querySelector('#df-7f0f2ae5-bad1-410b-bc08-9bd16ac4f903 button');\n",
              "      quickchartButtonEl.style.display =\n",
              "        google.colab.kernel.accessAllowed ? 'block' : 'none';\n",
              "    })();\n",
              "  </script>\n",
              "</div>\n",
              "    </div>\n",
              "  </div>\n"
            ],
            "application/vnd.google.colaboratory.intrinsic+json": {
              "type": "dataframe",
              "variable_name": "df",
              "summary": "{\n  \"name\": \"df\",\n  \"rows\": 522,\n  \"fields\": [\n    {\n      \"column\": \"Unnamed: 0\",\n      \"properties\": {\n        \"dtype\": \"number\",\n        \"std\": 150,\n        \"min\": 0,\n        \"max\": 521,\n        \"num_unique_values\": 522,\n        \"samples\": [\n          434,\n          440,\n          6\n        ],\n        \"semantic_type\": \"\",\n        \"description\": \"\"\n      }\n    },\n    {\n      \"column\": \"id\",\n      \"properties\": {\n        \"dtype\": \"number\",\n        \"std\": 3281,\n        \"min\": 65,\n        \"max\": 9552,\n        \"num_unique_values\": 522,\n        \"samples\": [\n          7326,\n          7689,\n          755\n        ],\n        \"semantic_type\": \"\",\n        \"description\": \"\"\n      }\n    },\n    {\n      \"column\": \"player_name\",\n      \"properties\": {\n        \"dtype\": \"string\",\n        \"num_unique_values\": 522,\n        \"samples\": [\n          \"Kayne Ramsay\",\n          \"Ben Godfrey\",\n          \"Jamie Vardy\"\n        ],\n        \"semantic_type\": \"\",\n        \"description\": \"\"\n      }\n    },\n    {\n      \"column\": \"games\",\n      \"properties\": {\n        \"dtype\": \"number\",\n        \"std\": 11,\n        \"min\": 1,\n        \"max\": 38,\n        \"num_unique_values\": 38,\n        \"samples\": [\n          2,\n          8,\n          34\n        ],\n        \"semantic_type\": \"\",\n        \"description\": \"\"\n      }\n    },\n    {\n      \"column\": \"time\",\n      \"properties\": {\n        \"dtype\": \"number\",\n        \"std\": 1031,\n        \"min\": 1,\n        \"max\": 3420,\n        \"num_unique_values\": 441,\n        \"samples\": [\n          2481,\n          113,\n          1109\n        ],\n        \"semantic_type\": \"\",\n        \"description\": \"\"\n      }\n    },\n    {\n      \"column\": \"goals\",\n      \"properties\": {\n        \"dtype\": \"number\",\n        \"std\": 3,\n        \"min\": 0,\n        \"max\": 23,\n        \"num_unique_values\": 21,\n        \"samples\": [\n          23,\n          3,\n          5\n        ],\n        \"semantic_type\": \"\",\n        \"description\": \"\"\n      }\n    },\n    {\n      \"column\": \"xG\",\n      \"properties\": {\n        \"dtype\": \"number\",\n        \"std\": 3.3179459760100185,\n        \"min\": 0.0,\n        \"max\": 22.17485890910029,\n        \"num_unique_values\": 430,\n        \"samples\": [\n          0.2156818900257349,\n          6.251116008497775,\n          0.5030050054192543\n        ],\n        \"semantic_type\": \"\",\n        \"description\": \"\"\n      }\n    },\n    {\n      \"column\": \"assists\",\n      \"properties\": {\n        \"dtype\": \"number\",\n        \"std\": 2,\n        \"min\": 0,\n        \"max\": 14,\n        \"num_unique_values\": 14,\n        \"samples\": [\n          3,\n          1,\n          14\n        ],\n        \"semantic_type\": \"\",\n        \"description\": \"\"\n      }\n    },\n    {\n      \"column\": \"xA\",\n      \"properties\": {\n        \"dtype\": \"number\",\n        \"std\": 1.8865097552119579,\n        \"min\": 0.0,\n        \"max\": 11.474995978176594,\n        \"num_unique_values\": 418,\n        \"samples\": [\n          1.9152584234252568,\n          1.0544508751481771,\n          0.0191399920731782\n        ],\n        \"semantic_type\": \"\",\n        \"description\": \"\"\n      }\n    },\n    {\n      \"column\": \"shots\",\n      \"properties\": {\n        \"dtype\": \"number\",\n        \"std\": 21,\n        \"min\": 0,\n        \"max\": 138,\n        \"num_unique_values\": 80,\n        \"samples\": [\n          23,\n          138,\n          64\n        ],\n        \"semantic_type\": \"\",\n        \"description\": \"\"\n      }\n    },\n    {\n      \"column\": \"key_passes\",\n      \"properties\": {\n        \"dtype\": \"number\",\n        \"std\": 16,\n        \"min\": 0,\n        \"max\": 95,\n        \"num_unique_values\": 63,\n        \"samples\": [\n          3,\n          46,\n          49\n        ],\n        \"semantic_type\": \"\",\n        \"description\": \"\"\n      }\n    },\n    {\n      \"column\": \"yellow_cards\",\n      \"properties\": {\n        \"dtype\": \"number\",\n        \"std\": 2,\n        \"min\": 0,\n        \"max\": 12,\n        \"num_unique_values\": 13,\n        \"samples\": [\n          8,\n          9,\n          1\n        ],\n        \"semantic_type\": \"\",\n        \"description\": \"\"\n      }\n    },\n    {\n      \"column\": \"red_cards\",\n      \"properties\": {\n        \"dtype\": \"number\",\n        \"std\": 0,\n        \"min\": 0,\n        \"max\": 2,\n        \"num_unique_values\": 3,\n        \"samples\": [\n          0,\n          1,\n          2\n        ],\n        \"semantic_type\": \"\",\n        \"description\": \"\"\n      }\n    },\n    {\n      \"column\": \"position\",\n      \"properties\": {\n        \"dtype\": \"category\",\n        \"num_unique_values\": 14,\n        \"samples\": [\n          \"D F M S\",\n          \"GK\",\n          \"F\"\n        ],\n        \"semantic_type\": \"\",\n        \"description\": \"\"\n      }\n    },\n    {\n      \"column\": \"team_title\",\n      \"properties\": {\n        \"dtype\": \"category\",\n        \"num_unique_values\": 28,\n        \"samples\": [\n          \"Newcastle United\",\n          \"West Bromwich Albion,West Ham\",\n          \"Arsenal\"\n        ],\n        \"semantic_type\": \"\",\n        \"description\": \"\"\n      }\n    },\n    {\n      \"column\": \"npg\",\n      \"properties\": {\n        \"dtype\": \"number\",\n        \"std\": 2,\n        \"min\": 0,\n        \"max\": 19,\n        \"num_unique_values\": 17,\n        \"samples\": [\n          19,\n          16,\n          13\n        ],\n        \"semantic_type\": \"\",\n        \"description\": \"\"\n      }\n    },\n    {\n      \"column\": \"npxG\",\n      \"properties\": {\n        \"dtype\": \"number\",\n        \"std\": 2.9311764323943286,\n        \"min\": 0.0,\n        \"max\": 19.1301834397018,\n        \"num_unique_values\": 430,\n        \"samples\": [\n          0.2156818900257349,\n          5.48994714114815,\n          0.5030050054192543\n        ],\n        \"semantic_type\": \"\",\n        \"description\": \"\"\n      }\n    },\n    {\n      \"column\": \"xGChain\",\n      \"properties\": {\n        \"dtype\": \"number\",\n        \"std\": 5.600249081706102,\n        \"min\": 0.0,\n        \"max\": 28.968233548104763,\n        \"num_unique_values\": 493,\n        \"samples\": [\n          1.399339895695448,\n          14.60811685398221,\n          0.1446126699447631\n        ],\n        \"semantic_type\": \"\",\n        \"description\": \"\"\n      }\n    },\n    {\n      \"column\": \"xGBuildup\",\n      \"properties\": {\n        \"dtype\": \"number\",\n        \"std\": 3.3765842066484923,\n        \"min\": 0.0,\n        \"max\": 18.323005951941013,\n        \"num_unique_values\": 484,\n        \"samples\": [\n          0.1774143576622009,\n          2.1871695667505264,\n          0.5140482373535633\n        ],\n        \"semantic_type\": \"\",\n        \"description\": \"\"\n      }\n    }\n  ]\n}"
            }
          },
          "metadata": {},
          "execution_count": 35
        }
      ]
    },
    {
      "cell_type": "markdown",
      "source": [
        "- 10 player dengan goal terbanyak"
      ],
      "metadata": {
        "id": "QxyNb4MPh5_w"
      }
    },
    {
      "cell_type": "code",
      "source": [
        "df.groupby('player_name').mean()\n",
        "df.groupby('player_name').mean().sort_values(by='goals')\n",
        "df1 = df.groupby('player_name')['goals'].mean()\n",
        "df1.sort_index()\n",
        "df2=df1.sort_values(ascending=False)\n",
        "df2.head(10)"
      ],
      "metadata": {
        "colab": {
          "base_uri": "https://localhost:8080/"
        },
        "id": "SAaONchwg5lI",
        "outputId": "9d99a4db-865a-4d49-c5b6-9ce5ab9d9289"
      },
      "execution_count": 44,
      "outputs": [
        {
          "output_type": "stream",
          "name": "stderr",
          "text": [
            "<ipython-input-44-d217991547e7>:1: FutureWarning: The default value of numeric_only in DataFrameGroupBy.mean is deprecated. In a future version, numeric_only will default to False. Either specify numeric_only or select only columns which should be valid for the function.\n",
            "  df.groupby('player_name').mean()\n",
            "<ipython-input-44-d217991547e7>:2: FutureWarning: The default value of numeric_only in DataFrameGroupBy.mean is deprecated. In a future version, numeric_only will default to False. Either specify numeric_only or select only columns which should be valid for the function.\n",
            "  df.groupby('player_name').mean().sort_values(by='goals')\n"
          ]
        },
        {
          "output_type": "execute_result",
          "data": {
            "text/plain": [
              "player_name\n",
              "Harry Kane               23.0\n",
              "Mohamed Salah            22.0\n",
              "Bruno Fernandes          18.0\n",
              "Patrick Bamford          17.0\n",
              "Son Heung-Min            17.0\n",
              "Dominic Calvert-Lewin    16.0\n",
              "Jamie Vardy              15.0\n",
              "Ollie Watkins            14.0\n",
              "Alexandre Lacazette      13.0\n",
              "Ilkay Gündogan           13.0\n",
              "Name: goals, dtype: float64"
            ]
          },
          "metadata": {},
          "execution_count": 44
        }
      ]
    },
    {
      "cell_type": "markdown",
      "source": [
        "- 10 player dengan durasi bermain terlama"
      ],
      "metadata": {
        "id": "uOOVz82Wk8PN"
      }
    },
    {
      "cell_type": "code",
      "source": [
        "df.groupby('player_name').mean()\n",
        "df.groupby('player_name').mean().sort_values(by='time')\n",
        "df1 = df.groupby('player_name')['time'].mean()\n",
        "df1.sort_index()\n",
        "df2=df1.sort_values(ascending=False)\n",
        "df2.head(10)"
      ],
      "metadata": {
        "colab": {
          "base_uri": "https://localhost:8080/"
        },
        "id": "hke8iraThKnJ",
        "outputId": "b11d1f3f-e70d-4c33-c03e-7f3f2d33873e"
      },
      "execution_count": 46,
      "outputs": [
        {
          "output_type": "stream",
          "name": "stderr",
          "text": [
            "<ipython-input-46-06f7a62033d7>:1: FutureWarning: The default value of numeric_only in DataFrameGroupBy.mean is deprecated. In a future version, numeric_only will default to False. Either specify numeric_only or select only columns which should be valid for the function.\n",
            "  df.groupby('player_name').mean()\n",
            "<ipython-input-46-06f7a62033d7>:2: FutureWarning: The default value of numeric_only in DataFrameGroupBy.mean is deprecated. In a future version, numeric_only will default to False. Either specify numeric_only or select only columns which should be valid for the function.\n",
            "  df.groupby('player_name').mean().sort_values(by='time')\n"
          ]
        },
        {
          "output_type": "execute_result",
          "data": {
            "text/plain": [
              "player_name\n",
              "Hugo Lloris              3420.0\n",
              "Emiliano Martinez        3420.0\n",
              "Kasper Schmeichel        3420.0\n",
              "Pierre-Emile Højbjerg    3420.0\n",
              "Stuart Dallas            3412.0\n",
              "Matt Targett             3407.0\n",
              "Luke Ayling              3400.0\n",
              "Andrew Robertson         3391.0\n",
              "Youri Tielemans          3359.0\n",
              "James Ward-Prowse        3330.0\n",
              "Name: time, dtype: float64"
            ]
          },
          "metadata": {},
          "execution_count": 46
        }
      ]
    },
    {
      "cell_type": "markdown",
      "source": [
        "- 10 player dengan assist terbanyak"
      ],
      "metadata": {
        "id": "4WdwDWaslAbR"
      }
    },
    {
      "cell_type": "code",
      "source": [
        "df.groupby('player_name').mean()\n",
        "df.groupby('player_name').mean().sort_values(by='assists')\n",
        "df1 = df.groupby('player_name')['assists'].mean()\n",
        "df1.sort_index()\n",
        "df2=df1.sort_values(ascending=False)\n",
        "df2.head(10)"
      ],
      "metadata": {
        "colab": {
          "base_uri": "https://localhost:8080/"
        },
        "id": "4nWw4Qxhi4u8",
        "outputId": "413a78a4-b344-4657-bc93-2337d8c9d5fc"
      },
      "execution_count": 53,
      "outputs": [
        {
          "output_type": "stream",
          "name": "stderr",
          "text": [
            "<ipython-input-53-3c5c298156e1>:1: FutureWarning: The default value of numeric_only in DataFrameGroupBy.mean is deprecated. In a future version, numeric_only will default to False. Either specify numeric_only or select only columns which should be valid for the function.\n",
            "  df.groupby('player_name').mean()\n",
            "<ipython-input-53-3c5c298156e1>:2: FutureWarning: The default value of numeric_only in DataFrameGroupBy.mean is deprecated. In a future version, numeric_only will default to False. Either specify numeric_only or select only columns which should be valid for the function.\n",
            "  df.groupby('player_name').mean().sort_values(by='assists')\n"
          ]
        },
        {
          "output_type": "execute_result",
          "data": {
            "text/plain": [
              "player_name\n",
              "Harry Kane         14.0\n",
              "Bruno Fernandes    12.0\n",
              "Kevin De Bruyne    11.0\n",
              "Son Heung-Min      10.0\n",
              "Jack Grealish      10.0\n",
              "Raphinha            9.0\n",
              "Jamie Vardy         9.0\n",
              "Marcus Rashford     9.0\n",
              "Aaron Cresswell     8.0\n",
              "Jack Harrison       8.0\n",
              "Name: assists, dtype: float64"
            ]
          },
          "metadata": {},
          "execution_count": 53
        }
      ]
    },
    {
      "cell_type": "markdown",
      "source": [
        "- 4 player pencetak goal terbanyak dari kesebelasan manchester city"
      ],
      "metadata": {
        "id": "XGiNyBHWlSr2"
      }
    },
    {
      "cell_type": "markdown",
      "source": [
        "- Dari kesebelasan mana pencetak goal terbanyak ? Jawab : Arsenal, New Castle United"
      ],
      "metadata": {
        "id": "i_9nU4IalZ6G"
      }
    },
    {
      "cell_type": "code",
      "source": [
        "df.groupby('team_title').mean()\n",
        "df.groupby('team_title').mean().sort_values(by='goals')\n",
        "df1 = df.groupby('team_title')['goals'].mean()\n",
        "df1.sort_index()\n",
        "df2=df1.sort_values(ascending=False)\n",
        "df2.head(1)"
      ],
      "metadata": {
        "colab": {
          "base_uri": "https://localhost:8080/"
        },
        "id": "DZhXPiY4lkbm",
        "outputId": "95ab49cb-1cdd-48d1-9950-1c43c058221d"
      },
      "execution_count": 59,
      "outputs": [
        {
          "output_type": "stream",
          "name": "stderr",
          "text": [
            "<ipython-input-59-37207a64498b>:1: FutureWarning: The default value of numeric_only in DataFrameGroupBy.mean is deprecated. In a future version, numeric_only will default to False. Either specify numeric_only or select only columns which should be valid for the function.\n",
            "  df.groupby('team_title').mean()\n",
            "<ipython-input-59-37207a64498b>:2: FutureWarning: The default value of numeric_only in DataFrameGroupBy.mean is deprecated. In a future version, numeric_only will default to False. Either specify numeric_only or select only columns which should be valid for the function.\n",
            "  df.groupby('team_title').mean().sort_values(by='goals')\n"
          ]
        },
        {
          "output_type": "execute_result",
          "data": {
            "text/plain": [
              "team_title\n",
              "Arsenal,Newcastle United    8.0\n",
              "Name: goals, dtype: float64"
            ]
          },
          "metadata": {},
          "execution_count": 59
        }
      ]
    },
    {
      "cell_type": "markdown",
      "source": [
        "- Jumlah kartu kuning dan kartu merah yang diterima pembuat assist terbanyak? Jawab = 170 untuk kartu kuning dan 475 untuk kartu merah"
      ],
      "metadata": {
        "id": "WYygG8col5nI"
      }
    },
    {
      "cell_type": "code",
      "source": [
        "df['yellow_cards'].value_counts()"
      ],
      "metadata": {
        "colab": {
          "base_uri": "https://localhost:8080/"
        },
        "id": "sea-yXcejUAc",
        "outputId": "4bcdcef5-7174-4482-b4b2-7b7792e72056"
      },
      "execution_count": 55,
      "outputs": [
        {
          "output_type": "execute_result",
          "data": {
            "text/plain": [
              "0     170\n",
              "2      89\n",
              "1      84\n",
              "3      73\n",
              "4      36\n",
              "5      24\n",
              "6      17\n",
              "7      16\n",
              "8       8\n",
              "11      2\n",
              "12      1\n",
              "9       1\n",
              "10      1\n",
              "Name: yellow_cards, dtype: int64"
            ]
          },
          "metadata": {},
          "execution_count": 55
        }
      ]
    },
    {
      "cell_type": "code",
      "source": [
        "df['red_cards'].value_counts()"
      ],
      "metadata": {
        "colab": {
          "base_uri": "https://localhost:8080/"
        },
        "id": "vIOUQaBqkSzP",
        "outputId": "44de5ccd-7bd7-4f2b-a585-2e21dd291dbf"
      },
      "execution_count": 56,
      "outputs": [
        {
          "output_type": "execute_result",
          "data": {
            "text/plain": [
              "0    475\n",
              "1     46\n",
              "2      1\n",
              "Name: red_cards, dtype: int64"
            ]
          },
          "metadata": {},
          "execution_count": 56
        }
      ]
    },
    {
      "cell_type": "markdown",
      "source": [
        "- Siapa yang jumlah assist dan goal nya terbanyak dan dari kesebelasan mana ?"
      ],
      "metadata": {
        "id": "OyEbL5AwmJlK"
      }
    },
    {
      "cell_type": "markdown",
      "source": [
        "- 5 kesebelasan penyumbang goal terbanyak?"
      ],
      "metadata": {
        "id": "frj0rldnmS0K"
      }
    },
    {
      "cell_type": "code",
      "source": [
        "df.groupby('team_title').mean()\n",
        "df.groupby('team_title').mean().sort_values(by='goals')\n",
        "df1 = df.groupby('team_title')['goals'].mean()\n",
        "df1.sort_index()\n",
        "df2=df1.sort_values(ascending=False)\n",
        "df2.head(5)"
      ],
      "metadata": {
        "colab": {
          "base_uri": "https://localhost:8080/"
        },
        "id": "ewD8w-XikhZX",
        "outputId": "9e7b8837-428f-4fcd-9a0b-cba845031a3c"
      },
      "execution_count": 60,
      "outputs": [
        {
          "output_type": "stream",
          "name": "stderr",
          "text": [
            "<ipython-input-60-fcba20f44d93>:1: FutureWarning: The default value of numeric_only in DataFrameGroupBy.mean is deprecated. In a future version, numeric_only will default to False. Either specify numeric_only or select only columns which should be valid for the function.\n",
            "  df.groupby('team_title').mean()\n",
            "<ipython-input-60-fcba20f44d93>:2: FutureWarning: The default value of numeric_only in DataFrameGroupBy.mean is deprecated. In a future version, numeric_only will default to False. Either specify numeric_only or select only columns which should be valid for the function.\n",
            "  df.groupby('team_title').mean().sort_values(by='goals')\n"
          ]
        },
        {
          "output_type": "execute_result",
          "data": {
            "text/plain": [
              "team_title\n",
              "Arsenal,Newcastle United    8.000000\n",
              "Manchester City             3.208333\n",
              "Aston Villa,Chelsea         3.000000\n",
              "Liverpool,Southampton       3.000000\n",
              "Everton,Southampton         3.000000\n",
              "Name: goals, dtype: float64"
            ]
          },
          "metadata": {},
          "execution_count": 60
        }
      ]
    },
    {
      "cell_type": "markdown",
      "source": [
        "- Pemain dengan jumlah goal terbanyak tanpa mendapatkan kartu sama sekali?"
      ],
      "metadata": {
        "id": "GwRJOkS_meKU"
      }
    }
  ]
}